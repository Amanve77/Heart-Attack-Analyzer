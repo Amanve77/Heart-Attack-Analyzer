{
 "cells": [
  {
   "cell_type": "markdown",
   "metadata": {},
   "source": [
    "# **<p style=\"color:Blue;\">About The Dataset :</p>**\n",
    "    \n",
    "age: Age of the patient\n",
    "\n",
    "sex: Sex of the patient\n",
    "\n",
    "cp: Chest pain type, 0 = Typical Angina, 1 = Atypical Angina, 2 = Non-anginal Pain, 3 = Asymptomatic\n",
    "\n",
    "trtbps: Resting blood pressure (in mm Hg)\n",
    "\n",
    "chol: Cholestoral in mg/dl fetched via BMI sensor\n",
    "\n",
    "fbs: (fasting blood sugar > 120 mg/dl), 1 = True, 0 = False\n",
    "\n",
    "restecg: Resting electrocardiographic results, 0 = Normal, 1 = ST-T wave normality, 2 = Left ventricular hypertrophy\n",
    "\n",
    "thalachh: Maximum heart rate achieved\n",
    "\n",
    "oldpeak: Previous peak\n",
    "\n",
    "slp: Slope\n",
    "\n",
    "caa: Number of major vessels\n",
    "\n",
    "thall: Thalium Stress Test result ~ (0,3)\n",
    "\n",
    "exng: Exercise induced angina ~ 1 = Yes, 0 = No\n",
    "\n",
    "output: Target variable\n",
    "\n"
   ]
  },
  {
   "cell_type": "code",
   "execution_count": 92,
   "metadata": {
    "_kg_hide-input": true,
    "_kg_hide-output": true
   },
   "outputs": [],
   "source": [
    "import pandas as pd \n",
    "from sklearn.model_selection import train_test_split\n",
    "from sklearn.linear_model import LogisticRegression\n",
    "from sklearn.metrics import confusion_matrix\n",
    "from sklearn.metrics import accuracy_score"
   ]
  },
  {
   "cell_type": "markdown",
   "metadata": {},
   "source": [
    "***Reading The Dataset***"
   ]
  },
  {
   "cell_type": "code",
   "execution_count": 93,
   "metadata": {},
   "outputs": [
    {
     "data": {
      "text/html": [
       "<div>\n",
       "<style scoped>\n",
       "    .dataframe tbody tr th:only-of-type {\n",
       "        vertical-align: middle;\n",
       "    }\n",
       "\n",
       "    .dataframe tbody tr th {\n",
       "        vertical-align: top;\n",
       "    }\n",
       "\n",
       "    .dataframe thead th {\n",
       "        text-align: right;\n",
       "    }\n",
       "</style>\n",
       "<table border=\"1\" class=\"dataframe\">\n",
       "  <thead>\n",
       "    <tr style=\"text-align: right;\">\n",
       "      <th></th>\n",
       "      <th>age</th>\n",
       "      <th>sex</th>\n",
       "      <th>cp</th>\n",
       "      <th>trtbps</th>\n",
       "      <th>chol</th>\n",
       "      <th>fbs</th>\n",
       "      <th>restecg</th>\n",
       "      <th>thalachh</th>\n",
       "      <th>exng</th>\n",
       "      <th>oldpeak</th>\n",
       "      <th>slp</th>\n",
       "      <th>caa</th>\n",
       "      <th>thall</th>\n",
       "      <th>output</th>\n",
       "    </tr>\n",
       "  </thead>\n",
       "  <tbody>\n",
       "    <tr>\n",
       "      <th>0</th>\n",
       "      <td>63</td>\n",
       "      <td>1</td>\n",
       "      <td>3</td>\n",
       "      <td>145</td>\n",
       "      <td>233</td>\n",
       "      <td>1</td>\n",
       "      <td>0</td>\n",
       "      <td>150</td>\n",
       "      <td>0</td>\n",
       "      <td>2.3</td>\n",
       "      <td>0</td>\n",
       "      <td>0</td>\n",
       "      <td>1</td>\n",
       "      <td>1</td>\n",
       "    </tr>\n",
       "    <tr>\n",
       "      <th>1</th>\n",
       "      <td>37</td>\n",
       "      <td>1</td>\n",
       "      <td>2</td>\n",
       "      <td>130</td>\n",
       "      <td>250</td>\n",
       "      <td>0</td>\n",
       "      <td>1</td>\n",
       "      <td>187</td>\n",
       "      <td>0</td>\n",
       "      <td>3.5</td>\n",
       "      <td>0</td>\n",
       "      <td>0</td>\n",
       "      <td>2</td>\n",
       "      <td>1</td>\n",
       "    </tr>\n",
       "    <tr>\n",
       "      <th>2</th>\n",
       "      <td>41</td>\n",
       "      <td>0</td>\n",
       "      <td>1</td>\n",
       "      <td>130</td>\n",
       "      <td>204</td>\n",
       "      <td>0</td>\n",
       "      <td>0</td>\n",
       "      <td>172</td>\n",
       "      <td>0</td>\n",
       "      <td>1.4</td>\n",
       "      <td>2</td>\n",
       "      <td>0</td>\n",
       "      <td>2</td>\n",
       "      <td>1</td>\n",
       "    </tr>\n",
       "    <tr>\n",
       "      <th>3</th>\n",
       "      <td>56</td>\n",
       "      <td>1</td>\n",
       "      <td>1</td>\n",
       "      <td>120</td>\n",
       "      <td>236</td>\n",
       "      <td>0</td>\n",
       "      <td>1</td>\n",
       "      <td>178</td>\n",
       "      <td>0</td>\n",
       "      <td>0.8</td>\n",
       "      <td>2</td>\n",
       "      <td>0</td>\n",
       "      <td>2</td>\n",
       "      <td>1</td>\n",
       "    </tr>\n",
       "    <tr>\n",
       "      <th>4</th>\n",
       "      <td>57</td>\n",
       "      <td>0</td>\n",
       "      <td>0</td>\n",
       "      <td>120</td>\n",
       "      <td>354</td>\n",
       "      <td>0</td>\n",
       "      <td>1</td>\n",
       "      <td>163</td>\n",
       "      <td>1</td>\n",
       "      <td>0.6</td>\n",
       "      <td>2</td>\n",
       "      <td>0</td>\n",
       "      <td>2</td>\n",
       "      <td>1</td>\n",
       "    </tr>\n",
       "  </tbody>\n",
       "</table>\n",
       "</div>"
      ],
      "text/plain": [
       "   age  sex  cp  trtbps  chol  fbs  restecg  thalachh  exng  oldpeak  slp  \\\n",
       "0   63    1   3     145   233    1        0       150     0      2.3    0   \n",
       "1   37    1   2     130   250    0        1       187     0      3.5    0   \n",
       "2   41    0   1     130   204    0        0       172     0      1.4    2   \n",
       "3   56    1   1     120   236    0        1       178     0      0.8    2   \n",
       "4   57    0   0     120   354    0        1       163     1      0.6    2   \n",
       "\n",
       "   caa  thall  output  \n",
       "0    0      1       1  \n",
       "1    0      2       1  \n",
       "2    0      2       1  \n",
       "3    0      2       1  \n",
       "4    0      2       1  "
      ]
     },
     "execution_count": 93,
     "metadata": {},
     "output_type": "execute_result"
    }
   ],
   "source": [
    "heart=pd.read_csv('heart_dataset.csv')\n",
    "heart.head()"
   ]
  },
  {
   "cell_type": "code",
   "execution_count": 94,
   "metadata": {
    "_kg_hide-input": true
   },
   "outputs": [
    {
     "data": {
      "text/html": [
       "<div>\n",
       "<style scoped>\n",
       "    .dataframe tbody tr th:only-of-type {\n",
       "        vertical-align: middle;\n",
       "    }\n",
       "\n",
       "    .dataframe tbody tr th {\n",
       "        vertical-align: top;\n",
       "    }\n",
       "\n",
       "    .dataframe thead th {\n",
       "        text-align: right;\n",
       "    }\n",
       "</style>\n",
       "<table border=\"1\" class=\"dataframe\">\n",
       "  <thead>\n",
       "    <tr style=\"text-align: right;\">\n",
       "      <th></th>\n",
       "      <th>age</th>\n",
       "      <th>sex</th>\n",
       "      <th>cp</th>\n",
       "      <th>trtbps</th>\n",
       "      <th>chol</th>\n",
       "      <th>fbs</th>\n",
       "      <th>restecg</th>\n",
       "      <th>thalachh</th>\n",
       "      <th>exng</th>\n",
       "      <th>oldpeak</th>\n",
       "      <th>slp</th>\n",
       "      <th>caa</th>\n",
       "      <th>thall</th>\n",
       "      <th>output</th>\n",
       "    </tr>\n",
       "  </thead>\n",
       "  <tbody>\n",
       "    <tr>\n",
       "      <th>164</th>\n",
       "      <td>38</td>\n",
       "      <td>1</td>\n",
       "      <td>2</td>\n",
       "      <td>138</td>\n",
       "      <td>175</td>\n",
       "      <td>0</td>\n",
       "      <td>1</td>\n",
       "      <td>173</td>\n",
       "      <td>0</td>\n",
       "      <td>0.0</td>\n",
       "      <td>2</td>\n",
       "      <td>4</td>\n",
       "      <td>2</td>\n",
       "      <td>1</td>\n",
       "    </tr>\n",
       "  </tbody>\n",
       "</table>\n",
       "</div>"
      ],
      "text/plain": [
       "     age  sex  cp  trtbps  chol  fbs  restecg  thalachh  exng  oldpeak  slp  \\\n",
       "164   38    1   2     138   175    0        1       173     0      0.0    2   \n",
       "\n",
       "     caa  thall  output  \n",
       "164    4      2       1  "
      ]
     },
     "execution_count": 94,
     "metadata": {},
     "output_type": "execute_result"
    }
   ],
   "source": [
    "heart[heart.duplicated()]"
   ]
  },
  {
   "cell_type": "markdown",
   "metadata": {},
   "source": [
    "***Removing the duplicates***"
   ]
  },
  {
   "cell_type": "code",
   "execution_count": 95,
   "metadata": {
    "_kg_hide-input": false
   },
   "outputs": [],
   "source": [
    "heart.drop_duplicates(keep='first',inplace=True)"
   ]
  },
  {
   "cell_type": "markdown",
   "metadata": {},
   "source": [
    "# **Data preprocessing**"
   ]
  },
  {
   "cell_type": "markdown",
   "metadata": {},
   "source": [
    "**There's no need for categorical encoding**"
   ]
  },
  {
   "cell_type": "code",
   "execution_count": 96,
   "metadata": {},
   "outputs": [
    {
     "data": {
      "text/plain": [
       "(     age  sex  cp  trtbps  chol  fbs  restecg  thalachh  exng  oldpeak  slp  \\\n",
       " 0     63    1   3     145   233    1        0       150     0      2.3    0   \n",
       " 1     37    1   2     130   250    0        1       187     0      3.5    0   \n",
       " 2     41    0   1     130   204    0        0       172     0      1.4    2   \n",
       " 3     56    1   1     120   236    0        1       178     0      0.8    2   \n",
       " 4     57    0   0     120   354    0        1       163     1      0.6    2   \n",
       " ..   ...  ...  ..     ...   ...  ...      ...       ...   ...      ...  ...   \n",
       " 298   57    0   0     140   241    0        1       123     1      0.2    1   \n",
       " 299   45    1   3     110   264    0        1       132     0      1.2    1   \n",
       " 300   68    1   0     144   193    1        1       141     0      3.4    1   \n",
       " 301   57    1   0     130   131    0        1       115     1      1.2    1   \n",
       " 302   57    0   1     130   236    0        0       174     0      0.0    1   \n",
       " \n",
       "      caa  thall  \n",
       " 0      0      1  \n",
       " 1      0      2  \n",
       " 2      0      2  \n",
       " 3      0      2  \n",
       " 4      0      2  \n",
       " ..   ...    ...  \n",
       " 298    0      3  \n",
       " 299    0      3  \n",
       " 300    2      3  \n",
       " 301    1      3  \n",
       " 302    1      2  \n",
       " \n",
       " [302 rows x 13 columns],\n",
       "      output\n",
       " 0         1\n",
       " 1         1\n",
       " 2         1\n",
       " 3         1\n",
       " 4         1\n",
       " ..      ...\n",
       " 298       0\n",
       " 299       0\n",
       " 300       0\n",
       " 301       0\n",
       " 302       0\n",
       " \n",
       " [302 rows x 1 columns])"
      ]
     },
     "execution_count": 96,
     "metadata": {},
     "output_type": "execute_result"
    }
   ],
   "source": [
    "x = heart.drop(['output'],axis=1)\n",
    "y = heart[['output']]\n",
    "x,y"
   ]
  },
  {
   "cell_type": "markdown",
   "metadata": {},
   "source": [
    "**Splitting the dataset into training and testing data**"
   ]
  },
  {
   "cell_type": "code",
   "execution_count": 97,
   "metadata": {},
   "outputs": [],
   "source": [
    "x_train, x_test, y_train, y_test = train_test_split(x, y, test_size= 0.2, random_state= 0)"
   ]
  },
  {
   "cell_type": "code",
   "execution_count": 98,
   "metadata": {
    "_kg_hide-input": true
   },
   "outputs": [
    {
     "name": "stdout",
     "output_type": "stream",
     "text": [
      "Shape for training data (241, 13) (241, 1)\n",
      "Shape for testing data (61, 13) (61, 1)\n"
     ]
    }
   ],
   "source": [
    "print('Shape for training data', x_train.shape, y_train.shape)\n",
    "print('Shape for testing data', x_test.shape, y_test.shape)"
   ]
  },
  {
   "cell_type": "markdown",
   "metadata": {},
   "source": [
    "**Feature Scaling**"
   ]
  },
  {
   "cell_type": "code",
   "execution_count": null,
   "metadata": {},
   "outputs": [],
   "source": []
  },
  {
   "cell_type": "code",
   "execution_count": 99,
   "metadata": {},
   "outputs": [
    {
     "data": {
      "text/plain": [
       "(     age  sex  cp  trtbps  chol  fbs  restecg  thalachh  exng  oldpeak  slp  \\\n",
       " 74    43    0   2     122   213    0        1       165     0      0.2    1   \n",
       " 153   66    0   2     146   278    0        0       152     0      0.0    1   \n",
       " 64    58    1   2     140   211    1        0       165     0      0.0    2   \n",
       " 296   63    0   0     124   197    0        1       136     1      0.0    1   \n",
       " 288   57    1   0     110   335    0        1       143     1      3.0    1   \n",
       " ..   ...  ...  ..     ...   ...  ...      ...       ...   ...      ...  ...   \n",
       " 252   62    0   0     138   294    1        1       106     0      1.9    1   \n",
       " 193   60    1   0     145   282    0        0       142     1      2.8    1   \n",
       " 117   56    1   3     120   193    0        0       162     0      1.9    1   \n",
       " 47    47    1   2     138   257    0        0       156     0      0.0    2   \n",
       " 173   58    1   2     132   224    0        0       173     0      3.2    2   \n",
       " \n",
       "      caa  thall  \n",
       " 74     0      2  \n",
       " 153    1      2  \n",
       " 64     0      2  \n",
       " 296    0      2  \n",
       " 288    1      3  \n",
       " ..   ...    ...  \n",
       " 252    3      2  \n",
       " 193    2      3  \n",
       " 117    0      3  \n",
       " 47     0      2  \n",
       " 173    2      3  \n",
       " \n",
       " [241 rows x 13 columns],\n",
       "      age  sex  cp  trtbps  chol  fbs  restecg  thalachh  exng  oldpeak  slp  \\\n",
       " 226   62    1   1     120   281    0        0       103     0      1.4    1   \n",
       " 152   64    1   3     170   227    0        0       155     0      0.6    1   \n",
       " 229   64    1   2     125   309    0        1       131     1      1.8    1   \n",
       " 202   58    1   0     150   270    0        0       111     1      0.8    2   \n",
       " 52    62    1   2     130   231    0        1       146     0      1.8    1   \n",
       " ..   ...  ...  ..     ...   ...  ...      ...       ...   ...      ...  ...   \n",
       " 146   44    0   2     118   242    0        1       149     0      0.3    1   \n",
       " 302   57    0   1     130   236    0        0       174     0      0.0    1   \n",
       " 26    59    1   2     150   212    1        1       157     0      1.6    2   \n",
       " 108   50    0   1     120   244    0        1       162     0      1.1    2   \n",
       " 89    58    0   0     100   248    0        0       122     0      1.0    1   \n",
       " \n",
       "      caa  thall  \n",
       " 226    1      3  \n",
       " 152    0      3  \n",
       " 229    0      3  \n",
       " 202    0      3  \n",
       " 52     3      3  \n",
       " ..   ...    ...  \n",
       " 146    1      2  \n",
       " 302    1      2  \n",
       " 26     0      2  \n",
       " 108    0      2  \n",
       " 89     0      2  \n",
       " \n",
       " [61 rows x 13 columns])"
      ]
     },
     "execution_count": 99,
     "metadata": {},
     "output_type": "execute_result"
    }
   ],
   "source": [
    "x_train,x_test"
   ]
  },
  {
   "cell_type": "code",
   "execution_count": 117,
   "metadata": {
    "_kg_hide-input": true
   },
   "outputs": [
    {
     "name": "stdout",
     "output_type": "stream",
     "text": [
      "Confusion Matrix : \n",
      " [[22  5]\n",
      " [ 4 30]]\n",
      "\n",
      "\n",
      "The accuracy of Logistic Regression is :  85.24590163934425 %\n"
     ]
    },
    {
     "name": "stderr",
     "output_type": "stream",
     "text": [
      "c:\\Users\\amanv\\anaconda3\\Lib\\site-packages\\sklearn\\utils\\validation.py:1143: DataConversionWarning: A column-vector y was passed when a 1d array was expected. Please change the shape of y to (n_samples, ), for example using ravel().\n",
      "  y = column_or_1d(y, warn=True)\n",
      "c:\\Users\\amanv\\anaconda3\\Lib\\site-packages\\sklearn\\linear_model\\_logistic.py:458: ConvergenceWarning: lbfgs failed to converge (status=1):\n",
      "STOP: TOTAL NO. of ITERATIONS REACHED LIMIT.\n",
      "\n",
      "Increase the number of iterations (max_iter) or scale the data as shown in:\n",
      "    https://scikit-learn.org/stable/modules/preprocessing.html\n",
      "Please also refer to the documentation for alternative solver options:\n",
      "    https://scikit-learn.org/stable/modules/linear_model.html#logistic-regression\n",
      "  n_iter_i = _check_optimize_result(\n"
     ]
    }
   ],
   "source": [
    "model = LogisticRegression()\n",
    "model.fit(x_train, y_train)\n",
    "predicted=model.predict(x_test)\n",
    "conf = confusion_matrix(y_test, predicted)\n",
    "print (\"Confusion Matrix : \\n\", conf)\n",
    "print()\n",
    "print()\n",
    "print (\"The accuracy of Logistic Regression is : \", accuracy_score(y_test, predicted)*100, \"%\")\n"
   ]
  },
  {
   "cell_type": "code",
   "execution_count": 118,
   "metadata": {
    "_kg_hide-input": true
   },
   "outputs": [],
   "source": [
    "import pickle\n",
    "\n",
    "pickle.dump(model, open('regmodel.pkl', 'wb'))\n",
    "\n",
    "models = pickle.load(open('regmodel.pkl', 'rb'))"
   ]
  },
  {
   "cell_type": "markdown",
   "metadata": {},
   "source": []
  },
  {
   "cell_type": "code",
   "execution_count": 102,
   "metadata": {},
   "outputs": [],
   "source": [
    "#var=[[58,1,1,120,284,0,0,160,0,1.8,1,0,2]]\n",
    "#scalers = StandardScaler()\n",
    "#input_data = scaler.fit_transform(var)"
   ]
  },
  {
   "cell_type": "code",
   "execution_count": 120,
   "metadata": {},
   "outputs": [
    {
     "name": "stderr",
     "output_type": "stream",
     "text": [
      "c:\\Users\\amanv\\anaconda3\\Lib\\site-packages\\sklearn\\base.py:439: UserWarning: X does not have valid feature names, but LogisticRegression was fitted with feature names\n",
      "  warnings.warn(\n"
     ]
    },
    {
     "data": {
      "text/plain": [
       "array([0], dtype=int64)"
      ]
     },
     "execution_count": 120,
     "metadata": {},
     "output_type": "execute_result"
    }
   ],
   "source": [
    "models.predict([[54,1,0,110,239,0,1,126,1,2.8,1,1,3]])"
   ]
  },
  {
   "cell_type": "code",
   "execution_count": 111,
   "metadata": {},
   "outputs": [
    {
     "data": {
      "text/plain": [
       "(     age  sex  cp  trtbps  chol  fbs  restecg  thalachh  exng  oldpeak  slp  \\\n",
       " 226   62    1   1     120   281    0        0       103     0      1.4    1   \n",
       " 152   64    1   3     170   227    0        0       155     0      0.6    1   \n",
       " 229   64    1   2     125   309    0        1       131     1      1.8    1   \n",
       " 202   58    1   0     150   270    0        0       111     1      0.8    2   \n",
       " 52    62    1   2     130   231    0        1       146     0      1.8    1   \n",
       " ..   ...  ...  ..     ...   ...  ...      ...       ...   ...      ...  ...   \n",
       " 146   44    0   2     118   242    0        1       149     0      0.3    1   \n",
       " 302   57    0   1     130   236    0        0       174     0      0.0    1   \n",
       " 26    59    1   2     150   212    1        1       157     0      1.6    2   \n",
       " 108   50    0   1     120   244    0        1       162     0      1.1    2   \n",
       " 89    58    0   0     100   248    0        0       122     0      1.0    1   \n",
       " \n",
       "      caa  thall  \n",
       " 226    1      3  \n",
       " 152    0      3  \n",
       " 229    0      3  \n",
       " 202    0      3  \n",
       " 52     3      3  \n",
       " ..   ...    ...  \n",
       " 146    1      2  \n",
       " 302    1      2  \n",
       " 26     0      2  \n",
       " 108    0      2  \n",
       " 89     0      2  \n",
       " \n",
       " [61 rows x 13 columns],\n",
       "      output\n",
       " 226       0\n",
       " 152       1\n",
       " 229       0\n",
       " 202       0\n",
       " 52        1\n",
       " ..      ...\n",
       " 146       1\n",
       " 302       0\n",
       " 26        1\n",
       " 108       1\n",
       " 89        1\n",
       " \n",
       " [61 rows x 1 columns])"
      ]
     },
     "execution_count": 111,
     "metadata": {},
     "output_type": "execute_result"
    }
   ],
   "source": [
    "x_test, y_test"
   ]
  },
  {
   "cell_type": "code",
   "execution_count": null,
   "metadata": {},
   "outputs": [],
   "source": []
  },
  {
   "cell_type": "code",
   "execution_count": null,
   "metadata": {},
   "outputs": [],
   "source": []
  },
  {
   "cell_type": "markdown",
   "metadata": {},
   "source": [
    "var = [[58,1,1,120,284,0,0,160,0,1.8,1,0,2]]\n",
    "ssss = my_scaler.transform(var)"
   ]
  },
  {
   "cell_type": "code",
   "execution_count": null,
   "metadata": {},
   "outputs": [],
   "source": []
  },
  {
   "cell_type": "code",
   "execution_count": null,
   "metadata": {},
   "outputs": [],
   "source": []
  }
 ],
 "metadata": {
  "kernelspec": {
   "display_name": "Python 3 (ipykernel)",
   "language": "python",
   "name": "python3"
  },
  "language_info": {
   "codemirror_mode": {
    "name": "ipython",
    "version": 3
   },
   "file_extension": ".py",
   "mimetype": "text/x-python",
   "name": "python",
   "nbconvert_exporter": "python",
   "pygments_lexer": "ipython3",
   "version": "3.11.7"
  }
 },
 "nbformat": 4,
 "nbformat_minor": 4
}
